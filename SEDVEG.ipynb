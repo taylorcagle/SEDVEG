{
  "metadata": {
    "language_info": {
      "codemirror_mode": {
        "name": "python",
        "version": 3
      },
      "file_extension": ".py",
      "mimetype": "text/x-python",
      "name": "python",
      "nbconvert_exporter": "python",
      "pygments_lexer": "ipython3",
      "version": "3.8"
    },
    "kernelspec": {
      "name": "python",
      "display_name": "Python (Pyodide)",
      "language": "python"
    }
  },
  "nbformat_minor": 4,
  "nbformat": 4,
  "cells": [
    {
      "cell_type": "code",
      "source": "#/* this is a generic soil cohort model to track organics */\n\n#include \"stdio.h\"\n#include \"math.h\"\n#include \"share_sedlib.h\"\n#include \"fctns_sedlib.h\"\n#include \"stdlib.h\"\n\nvoid sedlib_core_soil_cohort()",
      "metadata": {
        "collapsed": true,
        "jupyter": {
          "outputs_hidden": true
        },
        "trusted": true
      },
      "execution_count": 2,
      "outputs": [
        {
          "ename": "<class 'SyntaxError'>",
          "evalue": "invalid syntax (<ipython-input-2-de422d6a0118>, line 9)",
          "traceback": [
            "\u001b[0;36m  Input \u001b[0;32mIn [2]\u001b[0;36m\u001b[0m\n\u001b[0;31m    void sedlib_core_soil_cohort()\u001b[0m\n\u001b[0m         ^\u001b[0m\n\u001b[0;31mSyntaxError\u001b[0m\u001b[0;31m:\u001b[0m invalid syntax\n"
          ],
          "output_type": "error"
        }
      ]
    },
    {
      "cell_type": "code",
      "source": "     int  i, j, k;\n\n     double veg_source, veg_sink, veg_biomass_old;\n     double grain_mass[50], grain_mass_old[50];\n     double layer_mass[50], layer_mass_old[50];\n     double new_bl_thick, total_bed_thick;\n     double bl_prop, bl_prop_old, org_prop, net_org_prop;\n\n     bl_prop = 0.0;\n     bl_prop_old = 0.0;\n     org_prop = 0.0;\n     net_org_prop = 0.0;",
      "metadata": {
        "collapsed": true,
        "jupyter": {
          "outputs_hidden": true
        },
        "trusted": true
      },
      "execution_count": 3,
      "outputs": [
        {
          "ename": "<class 'SyntaxError'>",
          "evalue": "invalid syntax (<ipython-input-3-e7446c8efbb8>, line 1)",
          "traceback": [
            "\u001b[0;36m  Input \u001b[0;32mIn [3]\u001b[0;36m\u001b[0m\n\u001b[0;31m    int  i, j, k;\u001b[0m\n\u001b[0m         ^\u001b[0m\n\u001b[0;31mSyntaxError\u001b[0m\u001b[0;31m:\u001b[0m invalid syntax\n"
          ],
          "output_type": "error"
        }
      ]
    },
    {
      "cell_type": "code",
      "source": "#/* update vegetation density */\n\n     veg_source = (max_veg_source/rho) * MAX((limiting_veg_depth - MAX(depth_new,0.0)),0.0) / limiting_veg_depth;\n     veg_sink = max_veg_source / max_eq_mass;\n\n     veg_biomass_old = 0.0;\n     for (k = 0; k < n_sed; k++)\n      {\n        if (k == roots_constituent) \n          {\n          for (i = 0; i < n_blay-1; i ++)\n           {\n             veg_biomass_old += sed_sg[k] * (1. - bl_por[i]) * bl_thick[i] * bl_dist[i][k];\n           }\n           veg_biomass_old /= root_to_shoot_ratio;\n          }\n      }\n     veg_biomass = (veg_biomass_old + veg_source*sed_time_step)/(1. + veg_sink*sed_time_step);",
      "metadata": {
        "collapsed": true,
        "jupyter": {
          "outputs_hidden": true
        },
        "trusted": true
      },
      "execution_count": 4,
      "outputs": [
        {
          "ename": "<class 'IndentationError'>",
          "evalue": "unexpected indent (<ipython-input-4-ada05d768b92>, line 3)",
          "traceback": [
            "\u001b[0;36m  Input \u001b[0;32mIn [4]\u001b[0;36m\u001b[0m\n\u001b[0;31m    veg_source = (max_veg_source/rho) * MAX((limiting_veg_depth - MAX(depth_new,0.0)),0.0) / limiting_veg_depth;\u001b[0m\n\u001b[0m    ^\u001b[0m\n\u001b[0;31mIndentationError\u001b[0m\u001b[0;31m:\u001b[0m unexpected indent\n"
          ],
          "output_type": "error"
        }
      ]
    },
    {
      "cell_type": "code",
      "source": "#/* now update each layer.  */\n#/* dont include active layer: load veg mass in next bl */\n  total_bed_thick = 0.0;\n  for ( i = n_blay-2; i > -1; i -- )\n    {\n     layer_mass[i] = 0.0;\n     layer_mass_old[i] = 0.0;\n     for (k = 0; k < n_sed; k++)\n      {\n       grain_mass[k] = sed_sg[k] * (1. - bl_por[i]) * bl_thick[i] * bl_dist[i][k];\n       grain_mass_old[k] = grain_mass[k];\n       layer_mass_old[i] += grain_mass_old[k];\n       if (k == roots_constituent)\n         {\n          grain_mass[k] = (1./.99) * veg_biomass * root_to_shoot_ratio * \n                                        (pow(0.01,MIN((total_bed_thick/root_thickness_limit),1.0)) -\n                                         pow(0.01,MIN(((total_bed_thick + bl_thick[i])/root_thickness_limit),1.0)));\n         }\n       if (k == refractory_constituent)\n         {\n          grain_mass[k] += (1./.99) * veg_biomass * (1. + root_to_shoot_ratio) * veg_sink \n                                    * sed_time_step * (1. - labile_fraction) *  \n                                        (pow(0.01,MIN((total_bed_thick/root_thickness_limit),1.0)) -\n                                         pow(0.01,MIN(((total_bed_thick + bl_thick[i])/root_thickness_limit),1.0)));\n         }\n         layer_mass[i] += grain_mass[k];\n       }\n       total_bed_thick += bl_thick[i]; ",
      "metadata": {
        "collapsed": true,
        "jupyter": {
          "outputs_hidden": true
        },
        "trusted": true
      },
      "execution_count": 5,
      "outputs": [
        {
          "ename": "<class 'IndentationError'>",
          "evalue": "unexpected indent (<ipython-input-5-0546e2584a41>, line 3)",
          "traceback": [
            "\u001b[0;36m  Input \u001b[0;32mIn [5]\u001b[0;36m\u001b[0m\n\u001b[0;31m    total_bed_thick = 0.0;\u001b[0m\n\u001b[0m    ^\u001b[0m\n\u001b[0;31mIndentationError\u001b[0m\u001b[0;31m:\u001b[0m unexpected indent\n"
          ],
          "output_type": "error"
        }
      ]
    },
    {
      "cell_type": "code",
      "source": "#/* now update porosity and other erosion parameters */\n    for (j =0; j < 4; j ++)\n      {\n      if(sed_type[k] == 1 || j == 0){\n        if (j == 0) bl_prop_old = bl_por[i];\n        if (j == 1) bl_prop_old = bl_ces[i];\n        if (j == 2) bl_prop_old = bl_erc[i];\n        if (j == 3) bl_prop_old = bl_ere[i];\n        net_org_prop = 0.0;\n        for (k = 0; k < n_sed; k++)\n         {\n           if (j == 0) org_prop = sed_por[k];\n           if (j == 1) org_prop = sed_ces[k];\n           if (j == 2) org_prop = sed_erc[k];\n           if (j == 3) org_prop = sed_ere[k];\n           {\n             net_org_prop += org_prop * (grain_mass[k] - grain_mass_old[k]);\n           }\n         }\n         if (layer_mass[i] > 1.E-16)\n           bl_prop = (layer_mass_old[i]*bl_prop_old + net_org_prop) / layer_mass[i];\n         if (j == 0) bl_por[i] = bl_prop;\n         if (j == 1) bl_ces[i] = bl_prop;\n         if (j == 2) bl_erc[i] = bl_prop;\n         if (j == 3) bl_ere[i] = bl_prop;\n        }\n      }",
      "metadata": {
        "collapsed": true,
        "jupyter": {
          "outputs_hidden": true
        },
        "trusted": true
      },
      "execution_count": 6,
      "outputs": [
        {
          "ename": "<class 'IndentationError'>",
          "evalue": "unexpected indent (<ipython-input-6-bc77aee1595d>, line 2)",
          "traceback": [
            "\u001b[0;36m  Input \u001b[0;32mIn [6]\u001b[0;36m\u001b[0m\n\u001b[0;31m    for (j =0; j < 4; j ++)\u001b[0m\n\u001b[0m    ^\u001b[0m\n\u001b[0;31mIndentationError\u001b[0m\u001b[0;31m:\u001b[0m unexpected indent\n"
          ],
          "output_type": "error"
        }
      ]
    },
    {
      "cell_type": "code",
      "source": "#/* now update bed layer thickness and distribution */\n      new_bl_thick = 0.0;\n      for (k = 0; k < n_sed; k++)\n       {\n         new_bl_thick += grain_mass[k]/(sed_sg[k]*(1. - bl_por[i]));\n       }\n      for (k = 0; k < n_sed; k++)\n       {\n         if (new_bl_thick > 1.E-16)\n           bl_dist[i][k] = grain_mass[k]/(sed_sg[k]*(1. - bl_por[i])*new_bl_thick);\n       }\n\n       disp += (new_bl_thick - bl_thick[i]);\n       as_ceiling += (new_bl_thick - bl_thick[i]);\n       bl_thick[i] = new_bl_thick;\n     }",
      "metadata": {
        "trusted": true
      },
      "execution_count": null,
      "outputs": []
    },
    {
      "cell_type": "code",
      "source": "#/* now accumulate root and refractory biomass for output (alreadt calculated veg biomass above */\n     root_biomass = 0.0;\n     refractory_biomass = 0.0;\n     for (k = 0; k < n_sed; k++)\n      {\n        for (i = 0; i < n_blay-1; i ++)\n         {\n           if (k == roots_constituent) root_biomass += rho * sed_sg[k] * (1. - bl_por[i]) * bl_thick[i] * bl_dist[i][k];\n           if (k == refractory_constituent) refractory_biomass += rho * sed_sg[k] * (1. - bl_por[i]) * bl_thick[i] * bl_dist[i][k];\n         }\n      }\n      veg_biomass *= rho;\n}",
      "metadata": {},
      "execution_count": null,
      "outputs": []
    }
  ]
}